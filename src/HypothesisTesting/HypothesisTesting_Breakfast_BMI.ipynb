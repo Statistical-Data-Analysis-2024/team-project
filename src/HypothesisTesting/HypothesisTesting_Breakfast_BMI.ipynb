{
 "cells": [
  {
   "cell_type": "code",
   "execution_count": 3,
   "id": "2c30e593-4fba-4646-87fb-f605c34bd006",
   "metadata": {
    "execution": {
     "iopub.execute_input": "2024-12-04T14:51:49.974989Z",
     "iopub.status.busy": "2024-12-04T14:51:49.973903Z",
     "iopub.status.idle": "2024-12-04T14:51:51.021951Z",
     "shell.execute_reply": "2024-12-04T14:51:51.020928Z",
     "shell.execute_reply.started": "2024-12-04T14:51:49.974989Z"
    }
   },
   "outputs": [],
   "source": [
    "import numpy as np\n",
    "import pandas as pd\n",
    "\n",
    "# 가설 검정에 사용할 데이터 준비\n",
    "school_health=pd.read_csv(\"school_health_2022.csv\")\n",
    "data=school_health[[\"아침식사\",\"BMI\",\"성별\",\"학교급\"]]\n",
    "data=data[data['아침식사'].notna()]\n",
    "mapping = {1: 4, 2: 3, 3: 2, 4: 1}\n",
    "data['아침식사'] = data['아침식사'].map(mapping)"
   ]
  },
  {
   "cell_type": "code",
   "execution_count": 19,
   "id": "32b38f1d-51e5-4087-a8a2-425b7575d8f2",
   "metadata": {
    "execution": {
     "iopub.execute_input": "2024-12-04T15:03:18.167025Z",
     "iopub.status.busy": "2024-12-04T15:03:18.167025Z",
     "iopub.status.idle": "2024-12-04T15:03:18.215852Z",
     "shell.execute_reply": "2024-12-04T15:03:18.213868Z",
     "shell.execute_reply.started": "2024-12-04T15:03:18.167025Z"
    }
   },
   "outputs": [
    {
     "name": "stdout",
     "output_type": "stream",
     "text": [
      "\n",
      "[Spearman 상관 분석 결과]\n",
      "Statistic = -0.1489, p-value: 0.0000\n",
      " -> 아침식사 빈도와 BMI 간에 유의미한 상관 관계가 있습니다.\n"
     ]
    }
   ],
   "source": [
    "from scipy.stats import spearmanr\n",
    "# 아침식사 빈도 별 BMI가 정규성을 띄지 않고 동분산성 또한 만족하지 못하기 때문에 Spearman 상관 분석으로 실행\n",
    "stat, p_value = spearmanr(data['아침식사'], data['BMI'])\n",
    "print(\"\\n[Spearman 상관 분석 결과]\")\n",
    "print(f\"Statistic = {stat:.4f}, p-value: {p_value:.4f}\")\n",
    "\n",
    "if p_value < 0.05:\n",
    "    print(\" -> 아침식사 빈도와 BMI 간에 유의미한 상관 관계가 있습니다.\")\n",
    "else:\n",
    "    print(\" -> 아침식사 빈도와 BMI 간에 유의미한 상관 관계가 없습니다.\")"
   ]
  },
  {
   "cell_type": "code",
   "execution_count": 18,
   "id": "2a585d77-2863-410c-aad9-5d58a1630d93",
   "metadata": {
    "execution": {
     "iopub.execute_input": "2024-12-04T15:03:16.569346Z",
     "iopub.status.busy": "2024-12-04T15:03:16.568346Z",
     "iopub.status.idle": "2024-12-04T15:03:16.693653Z",
     "shell.execute_reply": "2024-12-04T15:03:16.688554Z",
     "shell.execute_reply.started": "2024-12-04T15:03:16.569346Z"
    }
   },
   "outputs": [
    {
     "name": "stdout",
     "output_type": "stream",
     "text": [
      "\n",
      "[Kruskal-Wallis 검정 결과]\n",
      "Statistic = 2101.3471, p-value = 0.0000\n",
      " -> 아침식사 빈도에 따른 BMI 중앙값에 유의미한 차이가 있습니다.\n"
     ]
    }
   ],
   "source": [
    "from scipy.stats import kruskal\n",
    "bmi_group1 = data[data['아침식사'] == 1]['BMI']\n",
    "bmi_group2 = data[data['아침식사'] == 2]['BMI']\n",
    "bmi_group3 = data[data['아침식사'] == 3]['BMI']\n",
    "bmi_group4 = data[data['아침식사'] == 4]['BMI']\n",
    "\n",
    "# 아침식사 빈도 별 BMI가 정규성을 띄지 않고 동분산성 또한 만족하지 못하기 때문에 Kruskal-Wallis H-test로 실행\n",
    "stat, p_value = kruskal(bmi_group1, bmi_group2, bmi_group3, bmi_group4)\n",
    "print(\"\\n[Kruskal-Wallis 검정 결과]\")\n",
    "print(f\"Statistic = {stat:.4f}, p-value = {p_value:.4f}\")\n",
    "if p_value < 0.05:\n",
    "    print(\" -> 아침식사 빈도에 따른 BMI 중앙값에 유의미한 차이가 있습니다.\")\n",
    "else:\n",
    "    print(\" -> 아침식사 빈도에 따른 BMI 중앙값에 유의미한 차이가 없습니다.\")"
   ]
  }
 ],
 "metadata": {
  "kernelspec": {
   "display_name": "sda2024",
   "language": "python",
   "name": "sda2024"
  },
  "language_info": {
   "codemirror_mode": {
    "name": "ipython",
    "version": 3
   },
   "file_extension": ".py",
   "mimetype": "text/x-python",
   "name": "python",
   "nbconvert_exporter": "python",
   "pygments_lexer": "ipython3",
   "version": "3.8.18"
  }
 },
 "nbformat": 4,
 "nbformat_minor": 5
}
