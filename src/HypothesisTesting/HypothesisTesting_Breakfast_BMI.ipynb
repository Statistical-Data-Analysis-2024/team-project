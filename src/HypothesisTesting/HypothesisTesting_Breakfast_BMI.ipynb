{
 "cells": [
  {
   "cell_type": "code",
   "execution_count": 44,
   "id": "2c30e593-4fba-4646-87fb-f605c34bd006",
   "metadata": {
    "execution": {
     "iopub.execute_input": "2024-12-06T10:29:23.993005Z",
     "iopub.status.busy": "2024-12-06T10:29:23.992005Z",
     "iopub.status.idle": "2024-12-06T10:29:25.475603Z",
     "shell.execute_reply": "2024-12-06T10:29:25.473602Z",
     "shell.execute_reply.started": "2024-12-06T10:29:23.993005Z"
    }
   },
   "outputs": [],
   "source": [
    "import numpy as np\n",
    "import pandas as pd\n",
    "import matplotlib.pyplot as plt     \n",
    "\n",
    "# 가설 검정에 사용할 데이터 준비\n",
    "school_health=pd.read_csv(\"school_health_2022.csv\")\n",
    "data=school_health[[\"아침식사\",\"BMI\",\"성별\",\"학교급\"]]\n",
    "data=data[data['아침식사'].notna()]\n",
    "mapping = {1: 4, 2: 3, 3: 2, 4: 1}\n",
    "data['아침식사'] = data['아침식사'].map(mapping)"
   ]
  },
  {
   "cell_type": "code",
   "execution_count": 45,
   "id": "08c95ec5-ea83-4d12-81f7-f100036b665a",
   "metadata": {
    "execution": {
     "iopub.execute_input": "2024-12-06T10:29:25.890280Z",
     "iopub.status.busy": "2024-12-06T10:29:25.889283Z",
     "iopub.status.idle": "2024-12-06T10:29:25.905111Z",
     "shell.execute_reply": "2024-12-06T10:29:25.903099Z",
     "shell.execute_reply.started": "2024-12-06T10:29:25.890280Z"
    }
   },
   "outputs": [],
   "source": [
    "# 한글 폰트 설정\n",
    "import matplotlib as mpl\n",
    "mpl.rcParams['font.family']='NanumGothic'"
   ]
  },
  {
   "cell_type": "code",
   "execution_count": 74,
   "id": "427e699c-2d7c-4588-9b84-708f7959efc4",
   "metadata": {
    "execution": {
     "iopub.execute_input": "2024-12-06T11:12:10.292958Z",
     "iopub.status.busy": "2024-12-06T11:12:10.291961Z",
     "iopub.status.idle": "2024-12-06T11:12:10.313960Z",
     "shell.execute_reply": "2024-12-06T11:12:10.312078Z",
     "shell.execute_reply.started": "2024-12-06T11:12:10.291961Z"
    }
   },
   "outputs": [],
   "source": [
    "# 이상치 제거\n",
    "Q1 = data['BMI'].quantile(0.25) \n",
    "Q3 = data['BMI'].quantile(0.75) \n",
    "IQR = Q3 - Q1 \n",
    "lower_bound = Q1 - 1.5 * IQR\n",
    "upper_bound = Q3 + 1.5 * IQR\n",
    "data = data[(data['BMI'] >= lower_bound) & (data['BMI'] <= upper_bound)]"
   ]
  },
  {
   "cell_type": "code",
   "execution_count": 75,
   "id": "8ec995d5-4ddb-4ac1-99fa-1907cf1e18c0",
   "metadata": {
    "execution": {
     "iopub.execute_input": "2024-12-06T11:12:13.593614Z",
     "iopub.status.busy": "2024-12-06T11:12:13.592686Z",
     "iopub.status.idle": "2024-12-06T11:12:13.824878Z",
     "shell.execute_reply": "2024-12-06T11:12:13.811336Z",
     "shell.execute_reply.started": "2024-12-06T11:12:13.593614Z"
    }
   },
   "outputs": [],
   "source": [
    "# 성별과 학교급을 기준으로 나눈 6가지 분포\n",
    "bmi_wel = data[(data['성별'] == '여') & (data['학교급'] == '초')]\n",
    "bmi_wmid = data[(data['성별'] == '여') & (data['학교급'] == '중')]\n",
    "bmi_whigh = data[(data['성별'] == '여') & (data['학교급'] == '고')]\n",
    "bmi_mel = data[(data['성별'] == '남') & (data['학교급'] == '초')]\n",
    "bmi_mmid = data[(data['성별'] == '남') & (data['학교급'] == '중')]\n",
    "bmi_mhigh = data[(data['성별'] == '남') & (data['학교급'] == '고')]"
   ]
  },
  {
   "cell_type": "code",
   "execution_count": 78,
   "id": "32b38f1d-51e5-4087-a8a2-425b7575d8f2",
   "metadata": {
    "execution": {
     "iopub.execute_input": "2024-12-06T11:16:34.560365Z",
     "iopub.status.busy": "2024-12-06T11:16:34.559137Z",
     "iopub.status.idle": "2024-12-06T11:16:34.578746Z",
     "shell.execute_reply": "2024-12-06T11:16:34.577070Z",
     "shell.execute_reply.started": "2024-12-06T11:16:34.560365Z"
    }
   },
   "outputs": [
    {
     "name": "stdout",
     "output_type": "stream",
     "text": [
      "\n",
      "[Spearman 상관 분석 결과]\n",
      "Statistic = -0.0992, p-value: 0.0000\n",
      " -> 초등학교 여학생의 경우 아침식사 빈도와 BMI 간에 유의미한 상관 관계가 있습니다.\n"
     ]
    }
   ],
   "source": [
    "from scipy.stats import spearmanr\n",
    "# 아침식사 빈도 별 BMI가 정규성을 띄지 않고 동분산성 또한 만족하지 못하기 때문에 Spearman 상관 분석으로 실행\n",
    "stat, p_value = spearmanr(bmi_wel['아침식사'], bmi_wel['BMI'])\n",
    "print(\"\\n[Spearman 상관 분석 결과]\")\n",
    "print(f\"Statistic = {stat:.4f}, p-value: {p_value:.4f}\")\n",
    "\n",
    "if p_value < 0.05:\n",
    "    print(\" -> 초등학교 여학생의 경우 아침식사 빈도와 BMI 간에 유의미한 상관 관계가 있습니다.\")\n",
    "else:\n",
    "    print(\" -> 초등학교 여학생의 경우 아침식사 빈도와 BMI 간에 유의미한 상관 관계가 없습니다.\")\n",
    "# 결과 초등학교 여학생의 경우 유의 수준 0.0000으로 인해 귀무가설을 기각"
   ]
  },
  {
   "cell_type": "code",
   "execution_count": 79,
   "id": "8a3e922d-5c9c-4d3d-8a46-319f7bd96299",
   "metadata": {
    "execution": {
     "iopub.execute_input": "2024-12-06T11:16:38.093478Z",
     "iopub.status.busy": "2024-12-06T11:16:38.093478Z",
     "iopub.status.idle": "2024-12-06T11:16:38.125077Z",
     "shell.execute_reply": "2024-12-06T11:16:38.122942Z",
     "shell.execute_reply.started": "2024-12-06T11:16:38.093478Z"
    }
   },
   "outputs": [
    {
     "name": "stdout",
     "output_type": "stream",
     "text": [
      "\n",
      "[Spearman 상관 분석 결과]\n",
      "Statistic = -0.0838, p-value: 0.0000\n",
      " -> 중학교 여학생의 경우 아침식사 빈도와 BMI 간에 유의미한 상관 관계가 있습니다.\n"
     ]
    }
   ],
   "source": [
    "from scipy.stats import spearmanr\n",
    "# 아침식사 빈도 별 BMI가 정규성을 띄지 않고 동분산성 또한 만족하지 못하기 때문에 Spearman 상관 분석으로 실행\n",
    "stat, p_value = spearmanr(bmi_wmid['아침식사'], bmi_wmid['BMI'])\n",
    "print(\"\\n[Spearman 상관 분석 결과]\")\n",
    "print(f\"Statistic = {stat:.4f}, p-value: {p_value:.4f}\")\n",
    "\n",
    "if p_value < 0.05:\n",
    "    print(\" -> 중학교 여학생의 경우 아침식사 빈도와 BMI 간에 유의미한 상관 관계가 있습니다.\")\n",
    "else:\n",
    "    print(\" -> 중학교 여학생의 경우 아침식사 빈도와 BMI 간에 유의미한 상관 관계가 없습니다.\")\n",
    "# 결과 중학교 여학생의 경우 유의 수준 0.0000으로 인해 귀무가설을 기각"
   ]
  },
  {
   "cell_type": "code",
   "execution_count": 84,
   "id": "3b9fb457-97ba-4069-8f76-6fdd7beaf8b5",
   "metadata": {
    "execution": {
     "iopub.execute_input": "2024-12-06T11:16:51.904428Z",
     "iopub.status.busy": "2024-12-06T11:16:51.904428Z",
     "iopub.status.idle": "2024-12-06T11:16:51.931798Z",
     "shell.execute_reply": "2024-12-06T11:16:51.929801Z",
     "shell.execute_reply.started": "2024-12-06T11:16:51.904428Z"
    }
   },
   "outputs": [
    {
     "name": "stdout",
     "output_type": "stream",
     "text": [
      "\n",
      "[Spearman 상관 분석 결과]\n",
      "Statistic = -0.0517, p-value: 0.0000\n",
      " -> 고등학교 여학생의 경우 아침식사 빈도와 BMI 간에 유의미한 상관 관계가 있습니다.\n"
     ]
    }
   ],
   "source": [
    "from scipy.stats import spearmanr\n",
    "# 아침식사 빈도 별 BMI가 정규성을 띄지 않고 동분산성 또한 만족하지 못하기 때문에 Spearman 상관 분석으로 실행\n",
    "stat, p_value = spearmanr(bmi_whigh['아침식사'], bmi_whigh['BMI'])\n",
    "print(\"\\n[Spearman 상관 분석 결과]\")\n",
    "print(f\"Statistic = {stat:.4f}, p-value: {p_value:.4f}\")\n",
    "\n",
    "if p_value < 0.05:\n",
    "    print(\" -> 고등학교 여학생의 경우 아침식사 빈도와 BMI 간에 유의미한 상관 관계가 있습니다.\")\n",
    "else:\n",
    "    print(\" -> 고등학교 여학생의 경우 아침식사 빈도와 BMI 간에 유의미한 상관 관계가 없습니다.\")\n",
    "# 결과 고등학교 여학생의 경우 유의 수준 0.0000으로 인해 귀무가설을 기각"
   ]
  },
  {
   "cell_type": "code",
   "execution_count": 82,
   "id": "769cf641-6b49-4ee9-8509-f5d3ded0234b",
   "metadata": {
    "execution": {
     "iopub.execute_input": "2024-12-06T11:16:45.117981Z",
     "iopub.status.busy": "2024-12-06T11:16:45.117981Z",
     "iopub.status.idle": "2024-12-06T11:16:45.142440Z",
     "shell.execute_reply": "2024-12-06T11:16:45.140018Z",
     "shell.execute_reply.started": "2024-12-06T11:16:45.117981Z"
    }
   },
   "outputs": [
    {
     "name": "stdout",
     "output_type": "stream",
     "text": [
      "\n",
      "[Spearman 상관 분석 결과]\n",
      "Statistic = -0.0647, p-value: 0.0000\n",
      " -> 초등학교 남학생의 경우 아침식사 빈도와 BMI 간에 유의미한 상관 관계가 있습니다.\n"
     ]
    }
   ],
   "source": [
    "from scipy.stats import spearmanr\n",
    "# 아침식사 빈도 별 BMI가 정규성을 띄지 않고 동분산성 또한 만족하지 못하기 때문에 Spearman 상관 분석으로 실행\n",
    "stat, p_value = spearmanr(bmi_mel['아침식사'], bmi_mel['BMI'])\n",
    "print(\"\\n[Spearman 상관 분석 결과]\")\n",
    "print(f\"Statistic = {stat:.4f}, p-value: {p_value:.4f}\")\n",
    "\n",
    "if p_value < 0.05:\n",
    "    print(\" -> 초등학교 남학생의 경우 아침식사 빈도와 BMI 간에 유의미한 상관 관계가 있습니다.\")\n",
    "else:\n",
    "    print(\" -> 초등학교 남학생의 경우 아침식사 빈도와 BMI 간에 유의미한 상관 관계가 없습니다.\")\n",
    "# 결과 초등학교 남학생의 경우 유의 수준 0.0000으로 인해 귀무가설을 기각"
   ]
  },
  {
   "cell_type": "code",
   "execution_count": 81,
   "id": "0686a027-9d85-4023-aab1-fae52b51d7aa",
   "metadata": {
    "execution": {
     "iopub.execute_input": "2024-12-06T11:16:42.744773Z",
     "iopub.status.busy": "2024-12-06T11:16:42.743750Z",
     "iopub.status.idle": "2024-12-06T11:16:42.772824Z",
     "shell.execute_reply": "2024-12-06T11:16:42.770823Z",
     "shell.execute_reply.started": "2024-12-06T11:16:42.744773Z"
    }
   },
   "outputs": [
    {
     "name": "stdout",
     "output_type": "stream",
     "text": [
      "\n",
      "[Spearman 상관 분석 결과]\n",
      "Statistic = -0.0442, p-value: 0.0000\n",
      " -> 중학교 남학생의 경우 아침식사 빈도와 BMI 간에 유의미한 상관 관계가 있습니다.\n"
     ]
    }
   ],
   "source": [
    "from scipy.stats import spearmanr\n",
    "# 아침식사 빈도 별 BMI가 정규성을 띄지 않고 동분산성 또한 만족하지 못하기 때문에 Spearman 상관 분석으로 실행\n",
    "stat, p_value = spearmanr(bmi_mmid['아침식사'], bmi_mmid['BMI'])\n",
    "print(\"\\n[Spearman 상관 분석 결과]\")\n",
    "print(f\"Statistic = {stat:.4f}, p-value: {p_value:.4f}\")\n",
    "\n",
    "if p_value < 0.05:\n",
    "    print(\" -> 중학교 남학생의 경우 아침식사 빈도와 BMI 간에 유의미한 상관 관계가 있습니다.\")\n",
    "else:\n",
    "    print(\" -> 중학교 남학생의 경우 아침식사 빈도와 BMI 간에 유의미한 상관 관계가 없습니다.\")\n",
    "# 결과 중학교 남학생의 경우 유의 수준 0.0000으로 인해 귀무가설을 기각"
   ]
  },
  {
   "cell_type": "code",
   "execution_count": 80,
   "id": "d177bfab-6575-4aef-b514-ad898ea3728f",
   "metadata": {
    "execution": {
     "iopub.execute_input": "2024-12-06T11:16:41.035275Z",
     "iopub.status.busy": "2024-12-06T11:16:41.034276Z",
     "iopub.status.idle": "2024-12-06T11:16:41.057824Z",
     "shell.execute_reply": "2024-12-06T11:16:41.056157Z",
     "shell.execute_reply.started": "2024-12-06T11:16:41.035275Z"
    }
   },
   "outputs": [
    {
     "name": "stdout",
     "output_type": "stream",
     "text": [
      "\n",
      "[Spearman 상관 분석 결과]\n",
      "Statistic = -0.0078, p-value: 0.3637\n",
      " -> 고등학교 남학생의 경우 아침식사 빈도와 BMI 간에 유의미한 상관 관계가 없습니다.\n"
     ]
    }
   ],
   "source": [
    "from scipy.stats import spearmanr\n",
    "# 아침식사 빈도 별 BMI가 정규성을 띄지 않고 동분산성 또한 만족하지 못하기 때문에 Spearman 상관 분석으로 실행\n",
    "stat, p_value = spearmanr(bmi_mhigh['아침식사'], bmi_mhigh['BMI'])\n",
    "print(\"\\n[Spearman 상관 분석 결과]\")\n",
    "print(f\"Statistic = {stat:.4f}, p-value: {p_value:.4f}\")\n",
    "\n",
    "if p_value < 0.05:\n",
    "    print(\" -> 고등학교 남학생의 경우 아침식사 빈도와 BMI 간에 유의미한 상관 관계가 있습니다.\")\n",
    "else:\n",
    "    print(\" -> 고등학교 남학생의 경우 아침식사 빈도와 BMI 간에 유의미한 상관 관계가 없습니다.\")\n",
    "# 결과 고등학교 남학생의 경우 유의 수준 0.3637으로 인해 귀무가설을 기각할 수 없음"
   ]
  },
  {
   "cell_type": "code",
   "execution_count": 73,
   "id": "2a585d77-2863-410c-aad9-5d58a1630d93",
   "metadata": {
    "execution": {
     "iopub.execute_input": "2024-12-06T11:02:19.211963Z",
     "iopub.status.busy": "2024-12-06T11:02:19.210961Z",
     "iopub.status.idle": "2024-12-06T11:02:19.254957Z",
     "shell.execute_reply": "2024-12-06T11:02:19.253749Z",
     "shell.execute_reply.started": "2024-12-06T11:02:19.211963Z"
    }
   },
   "outputs": [
    {
     "name": "stdout",
     "output_type": "stream",
     "text": [
      "\n",
      "[Kruskal-Wallis 검정 결과]\n",
      "Statistic = 15642.8831, p-value = 0.0000\n",
      " -> 아침식사 빈도에 따른 BMI 중앙값에 유의미한 차이가 있습니다.\n"
     ]
    }
   ],
   "source": [
    "from scipy.stats import kruskal\n",
    "# 아침식사 빈도 별 BMI가 정규성을 띄지 않고 동분산성 또한 만족하지 못하기 때문에 Kruskal-Wallis H-test로 실행\n",
    "stat, p_value = kruskal(bmi_wel['BMI'], bmi_wmid['BMI'], bmi_whigh['BMI'], bmi_mel['BMI'], bmi_mmid['BMI'], bmi_mhigh['BMI'])\n",
    "print(\"\\n[Kruskal-Wallis 검정 결과]\")\n",
    "print(f\"Statistic = {stat:.4f}, p-value = {p_value:.4f}\")\n",
    "if p_value < 0.05:\n",
    "    print(\" -> 아침식사 빈도에 따른 BMI 중앙값에 유의미한 차이가 있습니다.\")\n",
    "else:\n",
    "    print(\" -> 아침식사 빈도에 따른 BMI 중앙값에 유의미한 차이가 없습니다.\")\n",
    "# 결과 6개의 분포에 대해서 적어도 하나는 유의미한 차이가 있다는 것을 파악 가능"
   ]
  }
 ],
 "metadata": {
  "kernelspec": {
   "display_name": "sda2024",
   "language": "python",
   "name": "sda2024"
  },
  "language_info": {
   "codemirror_mode": {
    "name": "ipython",
    "version": 3
   },
   "file_extension": ".py",
   "mimetype": "text/x-python",
   "name": "python",
   "nbconvert_exporter": "python",
   "pygments_lexer": "ipython3",
   "version": "3.8.18"
  }
 },
 "nbformat": 4,
 "nbformat_minor": 5
}
