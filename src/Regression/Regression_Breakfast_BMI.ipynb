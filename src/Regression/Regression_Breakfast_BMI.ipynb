{
 "cells": [
  {
   "cell_type": "code",
   "execution_count": 19,
   "id": "672ddb2d-61a1-4d34-be78-48ff16fe627d",
   "metadata": {
    "execution": {
     "iopub.execute_input": "2024-12-04T15:29:05.235192Z",
     "iopub.status.busy": "2024-12-04T15:29:05.234185Z",
     "iopub.status.idle": "2024-12-04T15:29:06.248227Z",
     "shell.execute_reply": "2024-12-04T15:29:06.246167Z",
     "shell.execute_reply.started": "2024-12-04T15:29:05.235192Z"
    }
   },
   "outputs": [],
   "source": [
    "import numpy as np\n",
    "import pandas as pd\n",
    "\n",
    "#회귀분석을 위한 데이터 준비\n",
    "school_health=pd.read_csv(\"school_health_2022.csv\")\n",
    "data=school_health[[\"아침식사\",\"BMI\"]]\n",
    "data=data[data['아침식사'].notna()]\n",
    "mapping = {1: 4, 2: 3, 3: 2, 4: 1}\n",
    "data['아침식사'] = data['아침식사'].map(mapping)"
   ]
  },
  {
   "cell_type": "code",
   "execution_count": 17,
   "id": "4adabcc4-5ad7-4025-b39f-15c4215a52bd",
   "metadata": {
    "execution": {
     "iopub.execute_input": "2024-12-04T15:28:52.861951Z",
     "iopub.status.busy": "2024-12-04T15:28:52.860948Z",
     "iopub.status.idle": "2024-12-04T15:28:52.919221Z",
     "shell.execute_reply": "2024-12-04T15:28:52.918220Z",
     "shell.execute_reply.started": "2024-12-04T15:28:52.860948Z"
    }
   },
   "outputs": [
    {
     "name": "stdout",
     "output_type": "stream",
     "text": [
      "                            OLS Regression Results                            \n",
      "==============================================================================\n",
      "Dep. Variable:                    BMI   R-squared:                       0.022\n",
      "Model:                            OLS   Adj. R-squared:                  0.022\n",
      "Method:                 Least Squares   F-statistic:                     1985.\n",
      "Date:                Thu, 05 Dec 2024   Prob (F-statistic):               0.00\n",
      "Time:                        00:28:52   Log-Likelihood:            -2.5249e+05\n",
      "No. Observations:               89366   AIC:                         5.050e+05\n",
      "Df Residuals:                   89364   BIC:                         5.050e+05\n",
      "Df Model:                           1                                         \n",
      "Covariance Type:            nonrobust                                         \n",
      "==============================================================================\n",
      "                 coef    std err          t      P>|t|      [0.025      0.975]\n",
      "------------------------------------------------------------------------------\n",
      "const         22.2752      0.038    582.342      0.000      22.200      22.350\n",
      "아침식사          -0.5317      0.012    -44.555      0.000      -0.555      -0.508\n",
      "==============================================================================\n",
      "Omnibus:                     4804.255   Durbin-Watson:                   0.042\n",
      "Prob(Omnibus):                  0.000   Jarque-Bera (JB):             5628.661\n",
      "Skew:                           0.615   Prob(JB):                         0.00\n",
      "Kurtosis:                       2.975   Cond. No.                         9.75\n",
      "==============================================================================\n",
      "\n",
      "Notes:\n",
      "[1] Standard Errors assume that the covariance matrix of the errors is correctly specified.\n"
     ]
    }
   ],
   "source": [
    "# 아침식사 빈도와 BMI에 관한 단일 회귀분석\n",
    "import statsmodels.api as sm\n",
    "X = data[['아침식사']]\n",
    "X = sm.add_constant(X)\n",
    "y = data['BMI']\n",
    "model = sm.OLS(y, X).fit()\n",
    "print(model.summary())\n",
    "# 결과 아침 식사 빈도는 전체 BMI 변화의 2.2%를 설명하고 있으며 아침식사를 할 수록 BMI는 0.5317 감소하는 것으로 파악됨"
   ]
  }
 ],
 "metadata": {
  "kernelspec": {
   "display_name": "sda2024",
   "language": "python",
   "name": "sda2024"
  },
  "language_info": {
   "codemirror_mode": {
    "name": "ipython",
    "version": 3
   },
   "file_extension": ".py",
   "mimetype": "text/x-python",
   "name": "python",
   "nbconvert_exporter": "python",
   "pygments_lexer": "ipython3",
   "version": "3.8.18"
  }
 },
 "nbformat": 4,
 "nbformat_minor": 5
}
