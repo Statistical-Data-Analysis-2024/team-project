{
 "cells": [
  {
   "cell_type": "code",
   "execution_count": 2,
   "id": "672ddb2d-61a1-4d34-be78-48ff16fe627d",
   "metadata": {
    "execution": {
     "iopub.execute_input": "2024-12-06T10:47:29.221313Z",
     "iopub.status.busy": "2024-12-06T10:47:29.220314Z",
     "iopub.status.idle": "2024-12-06T10:47:30.316816Z",
     "shell.execute_reply": "2024-12-06T10:47:30.315761Z",
     "shell.execute_reply.started": "2024-12-06T10:47:29.221313Z"
    }
   },
   "outputs": [],
   "source": [
    "import numpy as np\n",
    "import pandas as pd\n",
    "import statsmodels.api as sm\n",
    "#회귀분석을 위한 데이터 준비\n",
    "school_health=pd.read_csv('../../data/school_health_preprocessed.csv')\n",
    "data=school_health[[\"아침식사\",\"BMI\",\"성별\",\"학교급\"]]\n",
    "data=data[data['아침식사'].notna()]\n",
    "mapping = {1: 4, 2: 3, 3: 2, 4: 1}\n",
    "data['아침식사'] = data['아침식사'].map(mapping)"
   ]
  },
  {
   "cell_type": "code",
   "execution_count": 3,
   "id": "d489bee5",
   "metadata": {},
   "outputs": [],
   "source": [
    "bmi_wel = data[(data['성별'] == '여') & (data['학교급'] == '초')]\n",
    "bmi_wmid = data[(data['성별'] == '여') & (data['학교급'] == '중')]\n",
    "bmi_whigh = data[(data['성별'] == '여') & (data['학교급'] == '고')]\n",
    "bmi_mel = data[(data['성별'] == '남') & (data['학교급'] == '초')]\n",
    "bmi_mmid = data[(data['성별'] == '남') & (data['학교급'] == '중')]\n",
    "bmi_mhigh = data[(data['성별'] == '남') & (data['학교급'] == '고')]"
   ]
  },
  {
   "cell_type": "code",
   "execution_count": null,
   "id": "511c69ac",
   "metadata": {},
   "outputs": [
    {
     "name": "stdout",
     "output_type": "stream",
     "text": [
      "=== 남자 초등학생 그룹 회귀 결과 ===\n",
      "                            OLS Regression Results                            \n",
      "==============================================================================\n",
      "Dep. Variable:                    BMI   R-squared:                       0.012\n",
      "Model:                            OLS   Adj. R-squared:                  0.012\n",
      "Method:                 Least Squares   F-statistic:                     201.4\n",
      "Date:                Sun, 08 Dec 2024   Prob (F-statistic):           1.91e-45\n",
      "Time:                        21:39:24   Log-Likelihood:                -42051.\n",
      "No. Observations:               15960   AIC:                         8.411e+04\n",
      "Df Residuals:                   15958   BIC:                         8.412e+04\n",
      "Df Model:                           1                                         \n",
      "Covariance Type:            nonrobust                                         \n",
      "==============================================================================\n",
      "                 coef    std err          t      P>|t|      [0.025      0.975]\n",
      "------------------------------------------------------------------------------\n",
      "const         19.4406      0.094    207.355      0.000      19.257      19.624\n",
      "아침식사          -0.3907      0.028    -14.193      0.000      -0.445      -0.337\n",
      "==============================================================================\n",
      "Omnibus:                     1876.470   Durbin-Watson:                   1.722\n",
      "Prob(Omnibus):                  0.000   Jarque-Bera (JB):             2625.792\n",
      "Skew:                           0.930   Prob(JB):                         0.00\n",
      "Kurtosis:                       3.700   Cond. No.                         12.9\n",
      "==============================================================================\n",
      "\n",
      "Notes:\n",
      "[1] Standard Errors assume that the covariance matrix of the errors is correctly specified.\n"
     ]
    }
   ],
   "source": [
    "# 여자 초등학생 그룹 회귀 분석\n",
    "X_m = sm.add_constant(bmi_wel['아침식사'])\n",
    "y_m = bmi_wel['BMI']\n",
    "model_female_elem = sm.OLS(y_m, X_m).fit()\n",
    "print(\"=== 여자 초등학생 그룹 회귀 결과 ===\")\n",
    "print(model_female_elem.summary())\n",
    "## 결과:\n",
    "# R-squared가 1.2%로 BMI의 매우 작은 부분만 설명 가능함\n",
    "# 회귀계수가 -0.3907으로 아침식사를 할수록 BMI가 감소하는 경향을 보임\n",
    "# p-value가 0.05 미만으로 아침식사 빈도가 BMI에 통계적으로 유의미한 영향을 미침"
   ]
  },
  {
   "cell_type": "code",
   "execution_count": 6,
   "id": "b5f02f2d",
   "metadata": {},
   "outputs": [
    {
     "name": "stdout",
     "output_type": "stream",
     "text": [
      "=== 여자 중학생 그룹 회귀 결과 ===\n",
      "                            OLS Regression Results                            \n",
      "==============================================================================\n",
      "Dep. Variable:                    BMI   R-squared:                       0.008\n",
      "Model:                            OLS   Adj. R-squared:                  0.008\n",
      "Method:                 Least Squares   F-statistic:                     92.67\n",
      "Date:                Sun, 08 Dec 2024   Prob (F-statistic):           7.49e-22\n",
      "Time:                        21:44:27   Log-Likelihood:                -29836.\n",
      "No. Observations:               11273   AIC:                         5.968e+04\n",
      "Df Residuals:                   11271   BIC:                         5.969e+04\n",
      "Df Model:                           1                                         \n",
      "Covariance Type:            nonrobust                                         \n",
      "==============================================================================\n",
      "                 coef    std err          t      P>|t|      [0.025      0.975]\n",
      "------------------------------------------------------------------------------\n",
      "const         21.4761      0.082    261.002      0.000      21.315      21.637\n",
      "아침식사          -0.2618      0.027     -9.627      0.000      -0.315      -0.209\n",
      "==============================================================================\n",
      "Omnibus:                      895.176   Durbin-Watson:                   1.954\n",
      "Prob(Omnibus):                  0.000   Jarque-Bera (JB):             1120.294\n",
      "Skew:                           0.750   Prob(JB):                    5.39e-244\n",
      "Kurtosis:                       3.371   Cond. No.                         8.47\n",
      "==============================================================================\n",
      "\n",
      "Notes:\n",
      "[1] Standard Errors assume that the covariance matrix of the errors is correctly specified.\n"
     ]
    }
   ],
   "source": [
    "# 여자 중학생 그룹 회귀 분석\n",
    "X_m = sm.add_constant(bmi_wmid['아침식사'])\n",
    "y_m = bmi_wmid['BMI']\n",
    "model_female_mid = sm.OLS(y_m, X_m).fit()\n",
    "print(\"=== 여자 중학생 그룹 회귀 결과 ===\")\n",
    "print(model_female_mid.summary())\n",
    "## 결과:\n",
    "# R-squared가 0.8%로 BMI의 매우 작은 부분만 설명 가능함\n",
    "# 회귀계수가 -0.2618으로 아침식사를 할수록 BMI가 감소하는 경향을 보임\n",
    "# p-value가 0.05 미만으로 아침식사 빈도가 BMI에 통계적으로 유의미한 영향을 미침"
   ]
  },
  {
   "cell_type": "code",
   "execution_count": null,
   "id": "123aacef",
   "metadata": {},
   "outputs": [
    {
     "name": "stdout",
     "output_type": "stream",
     "text": [
      "=== 여자 고등학생 그룹 회귀 결과 ===\n",
      "                            OLS Regression Results                            \n",
      "==============================================================================\n",
      "Dep. Variable:                    BMI   R-squared:                       0.001\n",
      "Model:                            OLS   Adj. R-squared:                  0.001\n",
      "Method:                 Least Squares   F-statistic:                     14.88\n",
      "Date:                Sun, 08 Dec 2024   Prob (F-statistic):           0.000115\n",
      "Time:                        21:45:08   Log-Likelihood:                -35541.\n",
      "No. Observations:               13482   AIC:                         7.109e+04\n",
      "Df Residuals:                   13480   BIC:                         7.110e+04\n",
      "Df Model:                           1                                         \n",
      "Covariance Type:            nonrobust                                         \n",
      "==============================================================================\n",
      "                 coef    std err          t      P>|t|      [0.025      0.975]\n",
      "------------------------------------------------------------------------------\n",
      "const         21.8548      0.070    312.966      0.000      21.718      21.992\n",
      "아침식사          -0.0932      0.024     -3.858      0.000      -0.140      -0.046\n",
      "==============================================================================\n",
      "Omnibus:                     1005.268   Durbin-Watson:                   1.940\n",
      "Prob(Omnibus):                  0.000   Jarque-Bera (JB):             1242.660\n",
      "Skew:                           0.736   Prob(JB):                    1.44e-270\n",
      "Kurtosis:                       3.216   Cond. No.                         7.64\n",
      "==============================================================================\n",
      "\n",
      "Notes:\n",
      "[1] Standard Errors assume that the covariance matrix of the errors is correctly specified.\n"
     ]
    }
   ],
   "source": [
    "# 여자 고등학생 그룹 회귀 분석\n",
    "X_m = sm.add_constant(bmi_whigh['아침식사'])\n",
    "y_m = bmi_whigh['BMI']\n",
    "model_female_high = sm.OLS(y_m, X_m).fit()\n",
    "print(\"=== 여자 고등학생 그룹 회귀 결과 ===\")\n",
    "print(model_female_high.summary())\n",
    "## 결과:\n",
    "# R-squared가 0.1%로 BMI의 매우 작은 부분만 설명 가능함\n",
    "# 회귀계수가 -0.0932으로 아침식사를 할수록 BMI가 감소하는 경향을 보임\n",
    "# p-value가 0.05 미만으로 아침식사 빈도가 BMI에 통계적으로 유의미한 영향을 미침"
   ]
  },
  {
   "cell_type": "code",
   "execution_count": 9,
   "id": "c0ad190b",
   "metadata": {},
   "outputs": [
    {
     "name": "stdout",
     "output_type": "stream",
     "text": [
      "=== 남자 초등학생 그룹 회귀 결과 ===\n",
      "                            OLS Regression Results                            \n",
      "==============================================================================\n",
      "Dep. Variable:                    BMI   R-squared:                       0.006\n",
      "Model:                            OLS   Adj. R-squared:                  0.006\n",
      "Method:                 Least Squares   F-statistic:                     102.7\n",
      "Date:                Sun, 08 Dec 2024   Prob (F-statistic):           4.56e-24\n",
      "Time:                        21:46:17   Log-Likelihood:                -46483.\n",
      "No. Observations:               16753   AIC:                         9.297e+04\n",
      "Df Residuals:                   16751   BIC:                         9.298e+04\n",
      "Df Model:                           1                                         \n",
      "Covariance Type:            nonrobust                                         \n",
      "==============================================================================\n",
      "                 coef    std err          t      P>|t|      [0.025      0.975]\n",
      "------------------------------------------------------------------------------\n",
      "const         20.2719      0.111    183.105      0.000      20.055      20.489\n",
      "아침식사          -0.3235      0.032    -10.134      0.000      -0.386      -0.261\n",
      "==============================================================================\n",
      "Omnibus:                     1280.538   Durbin-Watson:                   1.749\n",
      "Prob(Omnibus):                  0.000   Jarque-Bera (JB):             1599.400\n",
      "Skew:                           0.756   Prob(JB):                         0.00\n",
      "Kurtosis:                       2.952   Cond. No.                         13.8\n",
      "==============================================================================\n",
      "\n",
      "Notes:\n",
      "[1] Standard Errors assume that the covariance matrix of the errors is correctly specified.\n"
     ]
    }
   ],
   "source": [
    "# 남자 초등학생 그룹 회귀 분석\n",
    "X_m = sm.add_constant(bmi_mel['아침식사'])\n",
    "y_m = bmi_mel['BMI']\n",
    "model_male_elem = sm.OLS(y_m, X_m).fit()\n",
    "print(\"=== 남자 초등학생 그룹 회귀 결과 ===\")\n",
    "print(model_male_elem.summary())\n",
    "## 결과:\n",
    "# R-squared가 0.6%로 BMI의 매우 작은 부분만 설명 가능함\n",
    "# 회귀계수가 -0.3235으로 아침식사를 할수록 BMI가 감소하는 경향을 보임\n",
    "# p-value가 0.05 미만으로 아침식사 빈도가 BMI에 통계적으로 유의미한 영향을 미침"
   ]
  },
  {
   "cell_type": "code",
   "execution_count": 12,
   "id": "3bafcf02",
   "metadata": {},
   "outputs": [
    {
     "name": "stdout",
     "output_type": "stream",
     "text": [
      "=== 남자 중학생 그룹 회귀 결과 ===\n",
      "                            OLS Regression Results                            \n",
      "==============================================================================\n",
      "Dep. Variable:                    BMI   R-squared:                       0.002\n",
      "Model:                            OLS   Adj. R-squared:                  0.002\n",
      "Method:                 Least Squares   F-statistic:                     25.18\n",
      "Date:                Sun, 08 Dec 2024   Prob (F-statistic):           5.30e-07\n",
      "Time:                        21:47:22   Log-Likelihood:                -32632.\n",
      "No. Observations:               11684   AIC:                         6.527e+04\n",
      "Df Residuals:                   11682   BIC:                         6.528e+04\n",
      "Df Model:                           1                                         \n",
      "Covariance Type:            nonrobust                                         \n",
      "==============================================================================\n",
      "                 coef    std err          t      P>|t|      [0.025      0.975]\n",
      "------------------------------------------------------------------------------\n",
      "const         22.2311      0.096    230.474      0.000      22.042      22.420\n",
      "아침식사          -0.1547      0.031     -5.018      0.000      -0.215      -0.094\n",
      "==============================================================================\n",
      "Omnibus:                      637.140   Durbin-Watson:                   1.967\n",
      "Prob(Omnibus):                  0.000   Jarque-Bera (JB):              598.621\n",
      "Skew:                           0.499   Prob(JB):                    1.03e-130\n",
      "Kurtosis:                       2.518   Cond. No.                         8.99\n",
      "==============================================================================\n",
      "\n",
      "Notes:\n",
      "[1] Standard Errors assume that the covariance matrix of the errors is correctly specified.\n"
     ]
    }
   ],
   "source": [
    "# 남자 중학생 그룹 회귀 분석\n",
    "X_m = sm.add_constant(bmi_mmid['아침식사'])\n",
    "y_m = bmi_mmid['BMI']\n",
    "model_male_mid = sm.OLS(y_m, X_m).fit()\n",
    "print(\"=== 남자 중학생 그룹 회귀 결과 ===\")\n",
    "print(model_male_mid.summary())\n",
    "## 결과:\n",
    "# R-squared가 0.2%로 BMI의 매우 작은 부분만 설명 가능함\n",
    "# 회귀계수가 -0.1547으로 아침식사를 할수록 BMI가 감소하는 경향을 보임\n",
    "# p-value가 0.05 미만으로 아침식사 빈도가 BMI에 통계적으로 유의미한 영향을 미침"
   ]
  },
  {
   "cell_type": "code",
   "execution_count": 14,
   "id": "712b575a",
   "metadata": {},
   "outputs": [
    {
     "name": "stdout",
     "output_type": "stream",
     "text": [
      "=== 남자 고등학생 그룹 회귀 결과 ===\n",
      "                            OLS Regression Results                            \n",
      "==============================================================================\n",
      "Dep. Variable:                    BMI   R-squared:                       0.001\n",
      "Model:                            OLS   Adj. R-squared:                  0.001\n",
      "Method:                 Least Squares   F-statistic:                     8.237\n",
      "Date:                Sun, 08 Dec 2024   Prob (F-statistic):            0.00411\n",
      "Time:                        21:48:30   Log-Likelihood:                -36326.\n",
      "No. Observations:               13345   AIC:                         7.266e+04\n",
      "Df Residuals:                   13343   BIC:                         7.267e+04\n",
      "Df Model:                           1                                         \n",
      "Covariance Type:            nonrobust                                         \n",
      "==============================================================================\n",
      "                 coef    std err          t      P>|t|      [0.025      0.975]\n",
      "------------------------------------------------------------------------------\n",
      "const         22.9681      0.078    296.362      0.000      22.816      23.120\n",
      "아침식사          -0.0755      0.026     -2.870      0.004      -0.127      -0.024\n",
      "==============================================================================\n",
      "Omnibus:                      534.849   Durbin-Watson:                   1.968\n",
      "Prob(Omnibus):                  0.000   Jarque-Bera (JB):              471.616\n",
      "Skew:                           0.398   Prob(JB):                    3.89e-103\n",
      "Kurtosis:                       2.537   Cond. No.                         7.87\n",
      "==============================================================================\n",
      "\n",
      "Notes:\n",
      "[1] Standard Errors assume that the covariance matrix of the errors is correctly specified.\n"
     ]
    }
   ],
   "source": [
    "# 남자 고등학생 그룹 회귀 분석\n",
    "X_m = sm.add_constant(bmi_mhigh['아침식사'])\n",
    "y_m = bmi_mhigh['BMI']\n",
    "model_male_mhigh = sm.OLS(y_m, X_m).fit()\n",
    "print(\"=== 남자 고등학생 그룹 회귀 결과 ===\")\n",
    "print(model_male_mhigh.summary())\n",
    "## 결과:\n",
    "# R-squared가 0.1%로 BMI의 매우 작은 부분만 설명 가능함\n",
    "# 회귀계수가 -0.0755으로 아침식사를 할수록 BMI가 감소하는 경향을 보임\n",
    "# p-value가 0.05 미만으로 아침식사 빈도가 BMI에 통계적으로 유의미한 영향을 미침"
   ]
  }
 ],
 "metadata": {
  "kernelspec": {
   "display_name": "sda2024",
   "language": "python",
   "name": "python3"
  },
  "language_info": {
   "codemirror_mode": {
    "name": "ipython",
    "version": 3
   },
   "file_extension": ".py",
   "mimetype": "text/x-python",
   "name": "python",
   "nbconvert_exporter": "python",
   "pygments_lexer": "ipython3",
   "version": "3.8.18"
  }
 },
 "nbformat": 4,
 "nbformat_minor": 5
}
