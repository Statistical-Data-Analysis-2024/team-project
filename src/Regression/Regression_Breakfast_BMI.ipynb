{
 "cells": [
  {
   "cell_type": "code",
   "execution_count": 12,
   "id": "672ddb2d-61a1-4d34-be78-48ff16fe627d",
   "metadata": {
    "execution": {
     "iopub.execute_input": "2024-12-06T10:47:29.221313Z",
     "iopub.status.busy": "2024-12-06T10:47:29.220314Z",
     "iopub.status.idle": "2024-12-06T10:47:30.316816Z",
     "shell.execute_reply": "2024-12-06T10:47:30.315761Z",
     "shell.execute_reply.started": "2024-12-06T10:47:29.221313Z"
    }
   },
   "outputs": [],
   "source": [
    "import numpy as np\n",
    "import pandas as pd\n",
    "\n",
    "#회귀분석을 위한 데이터 준비\n",
    "school_health=pd.read_csv(\"school_health_2022.csv\")\n",
    "data=school_health[[\"아침식사\",\"BMI\",\"성별\",\"학교급\"]]\n",
    "data=data[data['아침식사'].notna()]\n",
    "mapping = {1: 4, 2: 3, 3: 2, 4: 1}\n",
    "data['아침식사'] = data['아침식사'].map(mapping)"
   ]
  },
  {
   "cell_type": "code",
   "execution_count": 18,
   "id": "3b3a2166-5061-441a-80a0-6739c5f9eba0",
   "metadata": {
    "execution": {
     "iopub.execute_input": "2024-12-06T10:58:49.903145Z",
     "iopub.status.busy": "2024-12-06T10:58:49.902528Z",
     "iopub.status.idle": "2024-12-06T10:58:49.936360Z",
     "shell.execute_reply": "2024-12-06T10:58:49.936360Z",
     "shell.execute_reply.started": "2024-12-06T10:58:49.903145Z"
    }
   },
   "outputs": [],
   "source": [
    "# 이상치 제거\n",
    "Q1 = data['BMI'].quantile(0.25) \n",
    "Q3 = data['BMI'].quantile(0.75)  \n",
    "IQR = Q3 - Q1\n",
    "lower_bound = Q1 - 1.5 * IQR\n",
    "upper_bound = Q3 + 1.5 * IQR\n",
    "data = data[(data['BMI'] >= lower_bound) & (data['BMI'] <= upper_bound)]"
   ]
  },
  {
   "cell_type": "code",
   "execution_count": 14,
   "id": "4adabcc4-5ad7-4025-b39f-15c4215a52bd",
   "metadata": {
    "execution": {
     "iopub.execute_input": "2024-12-06T10:47:32.847626Z",
     "iopub.status.busy": "2024-12-06T10:47:32.846624Z",
     "iopub.status.idle": "2024-12-06T10:47:32.903110Z",
     "shell.execute_reply": "2024-12-06T10:47:32.903110Z",
     "shell.execute_reply.started": "2024-12-06T10:47:32.846624Z"
    }
   },
   "outputs": [
    {
     "name": "stdout",
     "output_type": "stream",
     "text": [
      "                            OLS Regression Results                            \n",
      "==============================================================================\n",
      "Dep. Variable:                    BMI   R-squared:                       0.022\n",
      "Model:                            OLS   Adj. R-squared:                  0.022\n",
      "Method:                 Least Squares   F-statistic:                     1947.\n",
      "Date:                Fri, 06 Dec 2024   Prob (F-statistic):               0.00\n",
      "Time:                        19:47:32   Log-Likelihood:            -2.4656e+05\n",
      "No. Observations:               88473   AIC:                         4.931e+05\n",
      "Df Residuals:                   88471   BIC:                         4.931e+05\n",
      "Df Model:                           1                                         \n",
      "Covariance Type:            nonrobust                                         \n",
      "==============================================================================\n",
      "                 coef    std err          t      P>|t|      [0.025      0.975]\n",
      "------------------------------------------------------------------------------\n",
      "const         22.0912      0.037    596.162      0.000      22.019      22.164\n",
      "아침식사          -0.5097      0.012    -44.122      0.000      -0.532      -0.487\n",
      "==============================================================================\n",
      "Omnibus:                     3823.987   Durbin-Watson:                   0.042\n",
      "Prob(Omnibus):                  0.000   Jarque-Bera (JB):             4171.115\n",
      "Skew:                           0.515   Prob(JB):                         0.00\n",
      "Kurtosis:                       2.738   Cond. No.                         9.78\n",
      "==============================================================================\n",
      "\n",
      "Notes:\n",
      "[1] Standard Errors assume that the covariance matrix of the errors is correctly specified.\n"
     ]
    }
   ],
   "source": [
    "# 아침식사 빈도와 BMI에 관한 단일 회귀분석\n",
    "import statsmodels.api as sm\n",
    "X = data[['아침식사']]\n",
    "X = sm.add_constant(X)\n",
    "y = data['BMI']\n",
    "model = sm.OLS(y, X).fit()\n",
    "print(model.summary())\n",
    "# 결과 아침 식사 빈도는 전체 BMI 변화의 2.2%를 설명하고 있으며 아침식사를 할 수록 BMI는 0.5317 감소하는 것으로 파악됨"
   ]
  }
 ],
 "metadata": {
  "kernelspec": {
   "display_name": "sda2024",
   "language": "python",
   "name": "sda2024"
  },
  "language_info": {
   "codemirror_mode": {
    "name": "ipython",
    "version": 3
   },
   "file_extension": ".py",
   "mimetype": "text/x-python",
   "name": "python",
   "nbconvert_exporter": "python",
   "pygments_lexer": "ipython3",
   "version": "3.8.18"
  }
 },
 "nbformat": 4,
 "nbformat_minor": 5
}
