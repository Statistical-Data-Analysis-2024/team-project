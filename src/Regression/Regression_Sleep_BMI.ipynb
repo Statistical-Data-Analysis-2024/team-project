{
 "cells": [
  {
   "cell_type": "code",
   "execution_count": null,
   "metadata": {},
   "outputs": [],
   "source": [
    "%pip install pandas numpy matplotlib seaborn scipy statsmodels"
   ]
  },
  {
   "cell_type": "code",
   "execution_count": null,
   "metadata": {},
   "outputs": [],
   "source": [
    "import pandas as pd\n",
    "import matplotlib.pyplot as plt\n",
    "import statsmodels.api as sm\n",
    "import platform"
   ]
  },
  {
   "cell_type": "code",
   "execution_count": 7,
   "metadata": {},
   "outputs": [],
   "source": [
    "import matplotlib as mpl\n",
    "mpl.rcParams['axes.unicode_minus'] = False\n",
    "\n",
    "current_os = platform.system()\n",
    "if current_os == 'Windows':\n",
    "    plt.rcParams[\"font.family\"] = 'Malgun Gothic'\n",
    "elif current_os == 'Darwin':\n",
    "    plt.rcParams[\"font.family\"] = 'AppleGothic'\n",
    "else:\n",
    "    plt.rcParams[\"font.family\"] = 'NanumGothic'"
   ]
  },
  {
   "cell_type": "code",
   "execution_count": null,
   "metadata": {},
   "outputs": [],
   "source": [
    "data = pd.read_csv('../../data/school_health_preprocessed.csv')\n",
    "\n",
    "df = data[['하루수면량', 'BMI', '성별', '학교급']].dropna()\n",
    "\n",
    "sleep_time_mapping = {\n",
    "    1.0: '6시간 이내',\n",
    "    2.0: '6~7시간',\n",
    "    3.0: '7~8시간',\n",
    "    4.0: '8시간 이상'\n",
    "}\n",
    "df['수면시간대'] = df['하루수면량'].map(sleep_time_mapping)\n",
    "\n",
    "df['수면시간_수치'] = df['하루수면량'].map({\n",
    "    1.0: 5.5,   # 6시간 이내 평균 가정\n",
    "    2.0: 6.5,   # 6~7시간 평균 가정\n",
    "    3.0: 7.5,   # 7~8시간 평균 가정\n",
    "    4.0: 8.5    # 8시간 이상 평균 가정\n",
    "})\n",
    "\n",
    "male_elem = df[(df['성별'] == '남') & (df['학교급'] == '초')]\n",
    "female_elem = df[(df['성별'] == '여') & (df['학교급'] == '초')]"
   ]
  },
  {
   "cell_type": "code",
   "execution_count": null,
   "metadata": {},
   "outputs": [
    {
     "name": "stdout",
     "output_type": "stream",
     "text": [
      "=== 남자 초등학생 그룹 회귀 결과 ===\n",
      "                            OLS Regression Results                            \n",
      "==============================================================================\n",
      "Dep. Variable:                log_BMI   R-squared:                       0.019\n",
      "Model:                            OLS   Adj. R-squared:                  0.019\n",
      "Method:                 Least Squares   F-statistic:                     331.8\n",
      "Date:                Sun, 08 Dec 2024   Prob (F-statistic):           1.95e-73\n",
      "Time:                        21:00:35   Log-Likelihood:                 3781.2\n",
      "No. Observations:               16755   AIC:                            -7558.\n",
      "Df Residuals:                   16753   BIC:                            -7543.\n",
      "Df Model:                           1                                         \n",
      "Covariance Type:            nonrobust                                         \n",
      "==============================================================================\n",
      "                 coef    std err          t      P>|t|      [0.025      0.975]\n",
      "------------------------------------------------------------------------------\n",
      "const          3.2238      0.016    202.514      0.000       3.193       3.255\n",
      "수면시간_수치       -0.0365      0.002    -18.217      0.000      -0.040      -0.033\n",
      "==============================================================================\n",
      "Omnibus:                      900.755   Durbin-Watson:                   1.755\n",
      "Prob(Omnibus):                  0.000   Jarque-Bera (JB):              634.068\n",
      "Skew:                           0.370   Prob(JB):                    2.06e-138\n",
      "Kurtosis:                       2.400   Cond. No.                         86.2\n",
      "==============================================================================\n",
      "\n",
      "Notes:\n",
      "[1] Standard Errors assume that the covariance matrix of the errors is correctly specified.\n"
     ]
    }
   ],
   "source": [
    "# 종속변수 : BMI\n",
    "# 독립변수 : 수면시간\n",
    "\n",
    "# 남자 초등학생 그룹 회귀분석\n",
    "X_m = sm.add_constant(male_elem['수면시간_수치'])\n",
    "y_m = male_elem['BMI']\n",
    "model_male_elem = sm.OLS(y_m, X_m).fit()\n",
    "print(\"=== 남자 초등학생 그룹 회귀 결과 ===\")\n",
    "print(model_male_elem.summary())\n",
    "## 결과:\n",
    "# R-squared가 2%로 BMI의 매우 작은 부분만 설명 가능함\n",
    "# 회귀계수가 -0.7353으로 수면시간이 길어질수록 BMI가 감소하는 경향을 보임\n",
    "# p-value가 0.05 미만으로 수면시간이 BMI에 통계적으로 유의미한 영향을 미침"
   ]
  },
  {
   "cell_type": "code",
   "execution_count": null,
   "metadata": {},
   "outputs": [
    {
     "name": "stdout",
     "output_type": "stream",
     "text": [
      "\n",
      "=== 여자 초등학생 그룹 회귀 결과 ===\n",
      "                            OLS Regression Results                            \n",
      "==============================================================================\n",
      "Dep. Variable:                log_BMI   R-squared:                       0.030\n",
      "Model:                            OLS   Adj. R-squared:                  0.030\n",
      "Method:                 Least Squares   F-statistic:                     501.4\n",
      "Date:                Sun, 08 Dec 2024   Prob (F-statistic):          2.24e-109\n",
      "Time:                        21:00:35   Log-Likelihood:                 5162.7\n",
      "No. Observations:               15962   AIC:                        -1.032e+04\n",
      "Df Residuals:                   15960   BIC:                        -1.031e+04\n",
      "Df Model:                           1                                         \n",
      "Covariance Type:            nonrobust                                         \n",
      "==============================================================================\n",
      "                 coef    std err          t      P>|t|      [0.025      0.975]\n",
      "------------------------------------------------------------------------------\n",
      "const          3.2144      0.015    216.369      0.000       3.185       3.244\n",
      "수면시간_수치       -0.0419      0.002    -22.392      0.000      -0.046      -0.038\n",
      "==============================================================================\n",
      "Omnibus:                      589.243   Durbin-Watson:                   1.749\n",
      "Prob(Omnibus):                  0.000   Jarque-Bera (JB):              651.184\n",
      "Skew:                           0.490   Prob(JB):                    3.96e-142\n",
      "Kurtosis:                       2.858   Cond. No.                         86.5\n",
      "==============================================================================\n",
      "\n",
      "Notes:\n",
      "[1] Standard Errors assume that the covariance matrix of the errors is correctly specified.\n"
     ]
    }
   ],
   "source": [
    "# 여자 초등학생 그룹 회귀분석\n",
    "X_f = sm.add_constant(female_elem['수면시간_수치'])\n",
    "y_f = female_elem['BMI']\n",
    "model_female_elem = sm.OLS(y_f, X_f).fit()\n",
    "print(\"\\n=== 여자 초등학생 그룹 회귀 결과 ===\")\n",
    "print(model_female_elem.summary())\n",
    "## 결과:\n",
    "# R-squared가 3%로 BMI의 매우 작은 부분만 설명 가능함\n",
    "# 회귀계수가 -0.7956으로 수면시간이 길어질수록 BMI가 감소하는 경향을 보임\n",
    "# p-value가 0.05 미만으로 수면시간이 BMI에 통계적으로 유의미한 영향을 미침"
   ]
  },
  {
   "cell_type": "code",
   "execution_count": null,
   "metadata": {},
   "outputs": [],
   "source": []
  }
 ],
 "metadata": {
  "kernelspec": {
   "display_name": "sda2024",
   "language": "python",
   "name": "sda2024"
  },
  "language_info": {
   "codemirror_mode": {
    "name": "ipython",
    "version": 3
   },
   "file_extension": ".py",
   "mimetype": "text/x-python",
   "name": "python",
   "nbconvert_exporter": "python",
   "pygments_lexer": "ipython3",
   "version": "3.8.18"
  }
 },
 "nbformat": 4,
 "nbformat_minor": 2
}
