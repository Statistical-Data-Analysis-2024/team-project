{
 "cells": [
  {
   "cell_type": "code",
   "execution_count": null,
   "metadata": {},
   "outputs": [],
   "source": [
    "%pip install pandas numpy matplotlib seaborn scipy statsmodels"
   ]
  },
  {
   "cell_type": "code",
   "execution_count": 1,
   "metadata": {},
   "outputs": [],
   "source": [
    "import pandas as pd\n",
    "import matplotlib.pyplot as plt\n",
    "import statsmodels.api as sm\n",
    "import platform"
   ]
  },
  {
   "cell_type": "code",
   "execution_count": 2,
   "metadata": {},
   "outputs": [],
   "source": [
    "import matplotlib as mpl\n",
    "mpl.rcParams['axes.unicode_minus'] = False\n",
    "\n",
    "current_os = platform.system()\n",
    "if current_os == 'Windows':\n",
    "    plt.rcParams[\"font.family\"] = 'Malgun Gothic'\n",
    "elif current_os == 'Darwin':\n",
    "    plt.rcParams[\"font.family\"] = 'AppleGothic'\n",
    "else:\n",
    "    plt.rcParams[\"font.family\"] = 'NanumGothic'"
   ]
  },
  {
   "cell_type": "code",
   "execution_count": 3,
   "metadata": {},
   "outputs": [],
   "source": [
    "data = pd.read_csv('../../data/school_health_preprocessed.csv')\n",
    "\n",
    "df = data[['하루수면량', 'BMI', '성별', '학교급']].dropna()\n",
    "\n",
    "sleep_time_mapping = {\n",
    "    1.0: '6시간 이내',\n",
    "    2.0: '6~7시간',\n",
    "    3.0: '7~8시간',\n",
    "    4.0: '8시간 이상'\n",
    "}\n",
    "df['수면시간대'] = df['하루수면량'].map(sleep_time_mapping)\n",
    "\n",
    "df['수면시간_수치'] = df['하루수면량'].map({\n",
    "    1.0: 5.5,   # 6시간 이내 평균 가정\n",
    "    2.0: 6.5,   # 6~7시간 평균 가정\n",
    "    3.0: 7.5,   # 7~8시간 평균 가정\n",
    "    4.0: 8.5    # 8시간 이상 평균 가정\n",
    "})\n",
    "\n",
    "male_elem = df[(df['성별'] == '남') & (df['학교급'] == '초')]\n",
    "female_elem = df[(df['성별'] == '여') & (df['학교급'] == '초')]\n",
    "male_mid = df[(df['성별'] == '남') & (df['학교급'] == '중')]\n",
    "female_mid = df[(df['성별'] == '여') & (df['학교급'] == '중')]\n",
    "male_high = df[(df['성별'] == '남') & (df['학교급'] == '고')]\n",
    "female_high = df[(df['성별'] == '여') & (df['학교급'] == '고')]"
   ]
  },
  {
   "cell_type": "code",
   "execution_count": 4,
   "metadata": {},
   "outputs": [
    {
     "name": "stdout",
     "output_type": "stream",
     "text": [
      "=== 남자 초등학생 그룹 회귀 결과 ===\n",
      "                            OLS Regression Results                            \n",
      "==============================================================================\n",
      "Dep. Variable:                    BMI   R-squared:                       0.020\n",
      "Model:                            OLS   Adj. R-squared:                  0.020\n",
      "Method:                 Least Squares   F-statistic:                     339.3\n",
      "Date:                Tue, 10 Dec 2024   Prob (F-statistic):           5.05e-75\n",
      "Time:                        04:54:04   Log-Likelihood:                -46371.\n",
      "No. Observations:               16755   AIC:                         9.275e+04\n",
      "Df Residuals:                   16753   BIC:                         9.276e+04\n",
      "Df Model:                           1                                         \n",
      "Covariance Type:            nonrobust                                         \n",
      "==============================================================================\n",
      "                 coef    std err          t      P>|t|      [0.025      0.975]\n",
      "------------------------------------------------------------------------------\n",
      "const         25.0162      0.318     78.769      0.000      24.394      25.639\n",
      "수면시간_수치       -0.7353      0.040    -18.419      0.000      -0.814      -0.657\n",
      "==============================================================================\n",
      "Omnibus:                     1222.086   Durbin-Watson:                   1.769\n",
      "Prob(Omnibus):                  0.000   Jarque-Bera (JB):             1511.438\n",
      "Skew:                           0.735   Prob(JB):                         0.00\n",
      "Kurtosis:                       2.960   Cond. No.                         86.2\n",
      "==============================================================================\n",
      "\n",
      "Notes:\n",
      "[1] Standard Errors assume that the covariance matrix of the errors is correctly specified.\n"
     ]
    }
   ],
   "source": [
    "# 종속변수 : BMI\n",
    "# 독립변수 : 수면시간\n",
    "\n",
    "# 남자 초등학생 그룹 회귀분석\n",
    "X_m = sm.add_constant(male_elem['수면시간_수치'])\n",
    "y_m = male_elem['BMI']\n",
    "model_male_elem = sm.OLS(y_m, X_m).fit()\n",
    "print(\"=== 남자 초등학생 그룹 회귀 결과 ===\")\n",
    "print(model_male_elem.summary())\n",
    "## 결과:\n",
    "# R-squared가 2%로 BMI의 매우 작은 부분만 설명 가능함\n",
    "# 회귀계수가 -0.7353으로 수면시간이 길어질수록 BMI가 감소하는 경향을 보임\n",
    "# p-value가 0.05 미만으로 수면시간이 BMI에 통계적으로 유의미한 영향을 미침"
   ]
  },
  {
   "cell_type": "code",
   "execution_count": 5,
   "metadata": {},
   "outputs": [
    {
     "name": "stdout",
     "output_type": "stream",
     "text": [
      "\n",
      "=== 여자 초등학생 그룹 회귀 결과 ===\n",
      "                            OLS Regression Results                            \n",
      "==============================================================================\n",
      "Dep. Variable:                    BMI   R-squared:                       0.030\n",
      "Model:                            OLS   Adj. R-squared:                  0.030\n",
      "Method:                 Least Squares   F-statistic:                     496.9\n",
      "Date:                Tue, 10 Dec 2024   Prob (F-statistic):          2.05e-108\n",
      "Time:                        04:54:05   Log-Likelihood:                -41911.\n",
      "No. Observations:               15962   AIC:                         8.383e+04\n",
      "Df Residuals:                   15960   BIC:                         8.384e+04\n",
      "Df Model:                           1                                         \n",
      "Covariance Type:            nonrobust                                         \n",
      "==============================================================================\n",
      "                 coef    std err          t      P>|t|      [0.025      0.975]\n",
      "------------------------------------------------------------------------------\n",
      "const         24.4586      0.284     86.247      0.000      23.903      25.014\n",
      "수면시간_수치       -0.7956      0.036    -22.290      0.000      -0.866      -0.726\n",
      "==============================================================================\n",
      "Omnibus:                     1870.053   Durbin-Watson:                   1.757\n",
      "Prob(Omnibus):                  0.000   Jarque-Bera (JB):             2621.204\n",
      "Skew:                           0.923   Prob(JB):                         0.00\n",
      "Kurtosis:                       3.728   Cond. No.                         86.5\n",
      "==============================================================================\n",
      "\n",
      "Notes:\n",
      "[1] Standard Errors assume that the covariance matrix of the errors is correctly specified.\n"
     ]
    }
   ],
   "source": [
    "# 여자 초등학생 그룹 회귀분석\n",
    "X_f = sm.add_constant(female_elem['수면시간_수치'])\n",
    "y_f = female_elem['BMI']\n",
    "model_female_elem = sm.OLS(y_f, X_f).fit()\n",
    "print(\"\\n=== 여자 초등학생 그룹 회귀 결과 ===\")\n",
    "print(model_female_elem.summary())\n",
    "## 결과:\n",
    "# R-squared가 3%로 BMI의 매우 작은 부분만 설명 가능함\n",
    "# 회귀계수가 -0.7956으로 수면시간이 길어질수록 BMI가 감소하는 경향을 보임\n",
    "# p-value가 0.05 미만으로 수면시간이 BMI에 통계적으로 유의미한 영향을 미침"
   ]
  },
  {
   "cell_type": "code",
   "execution_count": 6,
   "metadata": {},
   "outputs": [
    {
     "name": "stdout",
     "output_type": "stream",
     "text": [
      "=== 남자 중학생 그룹 회귀 결과 ===\n",
      "                            OLS Regression Results                            \n",
      "==============================================================================\n",
      "Dep. Variable:                    BMI   R-squared:                       0.001\n",
      "Model:                            OLS   Adj. R-squared:                  0.001\n",
      "Method:                 Least Squares   F-statistic:                     11.12\n",
      "Date:                Tue, 10 Dec 2024   Prob (F-statistic):           0.000858\n",
      "Time:                        04:54:46   Log-Likelihood:                -32634.\n",
      "No. Observations:               11683   AIC:                         6.527e+04\n",
      "Df Residuals:                   11681   BIC:                         6.529e+04\n",
      "Df Model:                           1                                         \n",
      "Covariance Type:            nonrobust                                         \n",
      "==============================================================================\n",
      "                 coef    std err          t      P>|t|      [0.025      0.975]\n",
      "------------------------------------------------------------------------------\n",
      "const         22.7772      0.300     75.806      0.000      22.188      23.366\n",
      "수면시간_수치       -0.1406      0.042     -3.334      0.001      -0.223      -0.058\n",
      "==============================================================================\n",
      "Omnibus:                      644.722   Durbin-Watson:                   1.967\n",
      "Prob(Omnibus):                  0.000   Jarque-Bera (JB):              603.344\n",
      "Skew:                           0.501   Prob(JB):                    9.67e-132\n",
      "Kurtosis:                       2.513   Cond. No.                         59.7\n",
      "==============================================================================\n",
      "\n",
      "Notes:\n",
      "[1] Standard Errors assume that the covariance matrix of the errors is correctly specified.\n"
     ]
    }
   ],
   "source": [
    "# 남자 중학생 그룹 회귀분석\n",
    "X_m = sm.add_constant(male_mid['수면시간_수치'])\n",
    "y_m = male_mid['BMI']\n",
    "model_male_mid = sm.OLS(y_m, X_m).fit()\n",
    "print(\"=== 남자 중학생 그룹 회귀 결과 ===\")\n",
    "print(model_male_mid.summary())"
   ]
  },
  {
   "cell_type": "code",
   "execution_count": 7,
   "metadata": {},
   "outputs": [
    {
     "name": "stdout",
     "output_type": "stream",
     "text": [
      "=== 여자 중학생 그룹 회귀 결과 ===\n",
      "                            OLS Regression Results                            \n",
      "==============================================================================\n",
      "Dep. Variable:                    BMI   R-squared:                       0.001\n",
      "Model:                            OLS   Adj. R-squared:                  0.001\n",
      "Method:                 Least Squares   F-statistic:                     15.43\n",
      "Date:                Tue, 10 Dec 2024   Prob (F-statistic):           8.62e-05\n",
      "Time:                        04:55:18   Log-Likelihood:                -29872.\n",
      "No. Observations:               11272   AIC:                         5.975e+04\n",
      "Df Residuals:                   11270   BIC:                         5.976e+04\n",
      "Df Model:                           1                                         \n",
      "Covariance Type:            nonrobust                                         \n",
      "==============================================================================\n",
      "                 coef    std err          t      P>|t|      [0.025      0.975]\n",
      "------------------------------------------------------------------------------\n",
      "const         21.7180      0.249     87.104      0.000      21.229      22.207\n",
      "수면시간_수치       -0.1431      0.036     -3.928      0.000      -0.215      -0.072\n",
      "==============================================================================\n",
      "Omnibus:                      903.656   Durbin-Watson:                   1.950\n",
      "Prob(Omnibus):                  0.000   Jarque-Bera (JB):             1132.901\n",
      "Skew:                           0.756   Prob(JB):                    9.86e-247\n",
      "Kurtosis:                       3.358   Cond. No.                         54.0\n",
      "==============================================================================\n",
      "\n",
      "Notes:\n",
      "[1] Standard Errors assume that the covariance matrix of the errors is correctly specified.\n"
     ]
    }
   ],
   "source": [
    "# 여자 중학생 그룹 회귀분석\n",
    "X_m = sm.add_constant(female_mid['수면시간_수치'])\n",
    "y_m = female_mid['BMI']\n",
    "model_female_mid = sm.OLS(y_m, X_m).fit()\n",
    "print(\"=== 여자 중학생 그룹 회귀 결과 ===\")\n",
    "print(model_female_mid.summary())"
   ]
  },
  {
   "cell_type": "code",
   "execution_count": 8,
   "metadata": {},
   "outputs": [
    {
     "name": "stdout",
     "output_type": "stream",
     "text": [
      "=== 남자 고등학생 그룹 회귀 결과 ===\n",
      "                            OLS Regression Results                            \n",
      "==============================================================================\n",
      "Dep. Variable:                    BMI   R-squared:                       0.000\n",
      "Model:                            OLS   Adj. R-squared:                  0.000\n",
      "Method:                 Least Squares   F-statistic:                     1.993\n",
      "Date:                Tue, 10 Dec 2024   Prob (F-statistic):              0.158\n",
      "Time:                        04:56:00   Log-Likelihood:                -36332.\n",
      "No. Observations:               13345   AIC:                         7.267e+04\n",
      "Df Residuals:                   13343   BIC:                         7.268e+04\n",
      "Df Model:                           1                                         \n",
      "Covariance Type:            nonrobust                                         \n",
      "==============================================================================\n",
      "                 coef    std err          t      P>|t|      [0.025      0.975]\n",
      "------------------------------------------------------------------------------\n",
      "const         23.1218      0.254     90.865      0.000      22.623      23.621\n",
      "수면시간_수치       -0.0563      0.040     -1.412      0.158      -0.134       0.022\n",
      "==============================================================================\n",
      "Omnibus:                      540.473   Durbin-Watson:                   1.967\n",
      "Prob(Omnibus):                  0.000   Jarque-Bera (JB):              474.958\n",
      "Skew:                           0.399   Prob(JB):                    7.31e-104\n",
      "Kurtosis:                       2.533   Cond. No.                         52.2\n",
      "==============================================================================\n",
      "\n",
      "Notes:\n",
      "[1] Standard Errors assume that the covariance matrix of the errors is correctly specified.\n"
     ]
    }
   ],
   "source": [
    "# 남자 고등학생 그룹 회귀분석\n",
    "X_m = sm.add_constant(male_high['수면시간_수치'])\n",
    "y_m = male_high['BMI']\n",
    "model_male_high = sm.OLS(y_m, X_m).fit()\n",
    "print(\"=== 남자 고등학생 그룹 회귀 결과 ===\")\n",
    "print(model_male_high.summary())"
   ]
  },
  {
   "cell_type": "code",
   "execution_count": 9,
   "metadata": {},
   "outputs": [
    {
     "name": "stdout",
     "output_type": "stream",
     "text": [
      "\n",
      "=== 여자 고등학생 그룹 회귀 결과 ===\n",
      "                            OLS Regression Results                            \n",
      "==============================================================================\n",
      "Dep. Variable:                    BMI   R-squared:                       0.000\n",
      "Model:                            OLS   Adj. R-squared:                  0.000\n",
      "Method:                 Least Squares   F-statistic:                     2.812\n",
      "Date:                Tue, 10 Dec 2024   Prob (F-statistic):             0.0936\n",
      "Time:                        04:56:48   Log-Likelihood:                -35533.\n",
      "No. Observations:               13477   AIC:                         7.107e+04\n",
      "Df Residuals:                   13475   BIC:                         7.109e+04\n",
      "Df Model:                           1                                         \n",
      "Covariance Type:            nonrobust                                         \n",
      "==============================================================================\n",
      "                 coef    std err          t      P>|t|      [0.025      0.975]\n",
      "------------------------------------------------------------------------------\n",
      "const         21.2207      0.234     90.842      0.000      20.763      21.679\n",
      "수면시간_수치        0.0632      0.038      1.677      0.094      -0.011       0.137\n",
      "==============================================================================\n",
      "Omnibus:                     1000.822   Durbin-Watson:                   1.940\n",
      "Prob(Omnibus):                  0.000   Jarque-Bera (JB):             1236.185\n",
      "Skew:                           0.734   Prob(JB):                    3.68e-269\n",
      "Kurtosis:                       3.213   Cond. No.                         51.0\n",
      "==============================================================================\n",
      "\n",
      "Notes:\n",
      "[1] Standard Errors assume that the covariance matrix of the errors is correctly specified.\n"
     ]
    }
   ],
   "source": [
    "# 여자 고등학생 그룹 회귀분석\n",
    "X_f = sm.add_constant(female_high['수면시간_수치'])\n",
    "y_f = female_high['BMI']\n",
    "model_female_high = sm.OLS(y_f, X_f).fit()\n",
    "print(\"\\n=== 여자 고등학생 그룹 회귀 결과 ===\")\n",
    "print(model_female_high.summary())"
   ]
  },
  {
   "cell_type": "code",
   "execution_count": null,
   "metadata": {},
   "outputs": [],
   "source": []
  }
 ],
 "metadata": {
  "kernelspec": {
   "display_name": "sda2024",
   "language": "python",
   "name": "sda2024"
  },
  "language_info": {
   "codemirror_mode": {
    "name": "ipython",
    "version": 3
   },
   "file_extension": ".py",
   "mimetype": "text/x-python",
   "name": "python",
   "nbconvert_exporter": "python",
   "pygments_lexer": "ipython3",
   "version": "3.8.18"
  }
 },
 "nbformat": 4,
 "nbformat_minor": 2
}
