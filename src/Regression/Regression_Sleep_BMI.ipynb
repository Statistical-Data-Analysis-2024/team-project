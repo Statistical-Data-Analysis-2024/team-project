{
 "cells": [
  {
   "cell_type": "code",
   "execution_count": null,
   "metadata": {},
   "outputs": [],
   "source": [
    "%pip install pandas numpy matplotlib seaborn scipy statsmodels"
   ]
  },
  {
   "cell_type": "code",
   "execution_count": 19,
   "metadata": {},
   "outputs": [],
   "source": [
    "import pandas as pd\n",
    "import matplotlib.pyplot as plt\n",
    "import statsmodels.api as sm\n",
    "import platform"
   ]
  },
  {
   "cell_type": "code",
   "execution_count": 20,
   "metadata": {},
   "outputs": [],
   "source": [
    "import matplotlib as mpl\n",
    "mpl.rcParams['axes.unicode_minus'] = False\n",
    "\n",
    "current_os = platform.system()\n",
    "if current_os == 'Windows':\n",
    "    plt.rcParams[\"font.family\"] = 'Malgun Gothic'\n",
    "elif current_os == 'Darwin':\n",
    "    plt.rcParams[\"font.family\"] = 'AppleGothic'\n",
    "else:\n",
    "    plt.rcParams[\"font.family\"] = 'NanumGothic'"
   ]
  },
  {
   "cell_type": "code",
   "execution_count": 21,
   "metadata": {},
   "outputs": [],
   "source": [
    "data = pd.read_csv('../../data/school_health_preprocessed.csv')\n",
    "\n",
    "df = data[['하루수면량', 'BMI', '성별', '학교급']].dropna()\n",
    "\n",
    "sleep_time_mapping = {\n",
    "    1.0: '6시간 이내',\n",
    "    2.0: '6~7시간',\n",
    "    3.0: '7~8시간',\n",
    "    4.0: '8시간 이상'\n",
    "}\n",
    "df['수면시간대'] = df['하루수면량'].map(sleep_time_mapping)\n",
    "\n",
    "df['수면시간_수치'] = df['하루수면량'].map({\n",
    "    1.0: 5.5,   # 6시간 이내 평균 가정\n",
    "    2.0: 6.5,   # 6~7시간 평균 가정\n",
    "    3.0: 7.5,   # 7~8시간 평균 가정\n",
    "    4.0: 8.5    # 8시간 이상 평균 가정\n",
    "})\n",
    "\n",
    "male_elem = df[(df['성별'] == '남') & (df['학교급'] == '초')]\n",
    "female_elem = df[(df['성별'] == '여') & (df['학교급'] == '초')]"
   ]
  },
  {
   "cell_type": "code",
   "execution_count": 22,
   "metadata": {},
   "outputs": [
    {
     "name": "stdout",
     "output_type": "stream",
     "text": [
      "=== 남자 초등학생 그룹 회귀 결과 ===\n",
      "                            OLS Regression Results                            \n",
      "==============================================================================\n",
      "Dep. Variable:                    BMI   R-squared:                       0.020\n",
      "Model:                            OLS   Adj. R-squared:                  0.020\n",
      "Method:                 Least Squares   F-statistic:                     339.3\n",
      "Date:                Sat, 07 Dec 2024   Prob (F-statistic):           5.05e-75\n",
      "Time:                        23:10:33   Log-Likelihood:                -46371.\n",
      "No. Observations:               16755   AIC:                         9.275e+04\n",
      "Df Residuals:                   16753   BIC:                         9.276e+04\n",
      "Df Model:                           1                                         \n",
      "Covariance Type:            nonrobust                                         \n",
      "==============================================================================\n",
      "                 coef    std err          t      P>|t|      [0.025      0.975]\n",
      "------------------------------------------------------------------------------\n",
      "const         25.0162      0.318     78.769      0.000      24.394      25.639\n",
      "수면시간_수치       -0.7353      0.040    -18.419      0.000      -0.814      -0.657\n",
      "==============================================================================\n",
      "Omnibus:                     1222.086   Durbin-Watson:                   1.769\n",
      "Prob(Omnibus):                  0.000   Jarque-Bera (JB):             1511.438\n",
      "Skew:                           0.735   Prob(JB):                         0.00\n",
      "Kurtosis:                       2.960   Cond. No.                         86.2\n",
      "==============================================================================\n",
      "\n",
      "Notes:\n",
      "[1] Standard Errors assume that the covariance matrix of the errors is correctly specified.\n"
     ]
    }
   ],
   "source": [
    "# 종속변수 : BMI\n",
    "# 독립변수 : 수면시간\n",
    "\n",
    "# 남자 초등학생 그룹 회귀분석\n",
    "X_m = sm.add_constant(male_elem['수면시간_수치'])\n",
    "y_m = male_elem['BMI']\n",
    "model_male_elem = sm.OLS(y_m, X_m).fit()\n",
    "print(\"=== 남자 초등학생 그룹 회귀 결과 ===\")\n",
    "print(model_male_elem.summary())\n",
    "## 결과:\n",
    "# R-squared가 2%로 BMI의 매우 작은 부분만 설명 가능함\n",
    "# 회귀계수가 -0.7353으로 수면시간이 길어질수록 BMI가 감소하는 경향을 보임\n",
    "# p-value가 0.05 미만으로 수면시간이 BMI에 통계적으로 유의미한 영향을 미침"
   ]
  },
  {
   "cell_type": "code",
   "execution_count": 23,
   "metadata": {},
   "outputs": [
    {
     "name": "stdout",
     "output_type": "stream",
     "text": [
      "\n",
      "=== 여자 초등학생 그룹 회귀 결과 ===\n",
      "                            OLS Regression Results                            \n",
      "==============================================================================\n",
      "Dep. Variable:                    BMI   R-squared:                       0.030\n",
      "Model:                            OLS   Adj. R-squared:                  0.030\n",
      "Method:                 Least Squares   F-statistic:                     496.9\n",
      "Date:                Sat, 07 Dec 2024   Prob (F-statistic):          2.05e-108\n",
      "Time:                        23:10:33   Log-Likelihood:                -41911.\n",
      "No. Observations:               15962   AIC:                         8.383e+04\n",
      "Df Residuals:                   15960   BIC:                         8.384e+04\n",
      "Df Model:                           1                                         \n",
      "Covariance Type:            nonrobust                                         \n",
      "==============================================================================\n",
      "                 coef    std err          t      P>|t|      [0.025      0.975]\n",
      "------------------------------------------------------------------------------\n",
      "const         24.4586      0.284     86.247      0.000      23.903      25.014\n",
      "수면시간_수치       -0.7956      0.036    -22.290      0.000      -0.866      -0.726\n",
      "==============================================================================\n",
      "Omnibus:                     1870.053   Durbin-Watson:                   1.757\n",
      "Prob(Omnibus):                  0.000   Jarque-Bera (JB):             2621.204\n",
      "Skew:                           0.923   Prob(JB):                         0.00\n",
      "Kurtosis:                       3.728   Cond. No.                         86.5\n",
      "==============================================================================\n",
      "\n",
      "Notes:\n",
      "[1] Standard Errors assume that the covariance matrix of the errors is correctly specified.\n"
     ]
    }
   ],
   "source": [
    "# 여자 초등학생 그룹 회귀분석\n",
    "X_f = sm.add_constant(female_elem['수면시간_수치'])\n",
    "y_f = female_elem['BMI']\n",
    "model_female_elem = sm.OLS(y_f, X_f).fit()\n",
    "print(\"\\n=== 여자 초등학생 그룹 회귀 결과 ===\")\n",
    "print(model_female_elem.summary())\n",
    "## 결과:\n",
    "# R-squared가 3%로 BMI의 매우 작은 부분만 설명 가능함\n",
    "# 회귀계수가 -0.7956으로 수면시간이 길어질수록 BMI가 감소하는 경향을 보임\n",
    "# p-value가 0.05 미만으로 수면시간이 BMI에 통계적으로 유의미한 영향을 미침"
   ]
  },
  {
   "cell_type": "code",
   "execution_count": null,
   "metadata": {},
   "outputs": [],
   "source": []
  }
 ],
 "metadata": {
  "kernelspec": {
   "display_name": "sda2024",
   "language": "python",
   "name": "sda2024"
  },
  "language_info": {
   "codemirror_mode": {
    "name": "ipython",
    "version": 3
   },
   "file_extension": ".py",
   "mimetype": "text/x-python",
   "name": "python",
   "nbconvert_exporter": "python",
   "pygments_lexer": "ipython3",
   "version": "3.8.18"
  }
 },
 "nbformat": 4,
 "nbformat_minor": 2
}
